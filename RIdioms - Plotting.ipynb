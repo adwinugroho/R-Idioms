{
 "cells": [
  {
   "cell_type": "markdown",
   "metadata": {},
   "source": [
    "# Plot"
   ]
  },
  {
   "cell_type": "markdown",
   "metadata": {},
   "source": [
    "Plot digunakan untuk variabel bertipe factor fungsi ini menghasilkan grafik Bar Plot Hist untuk variabel bertipe numeric seperti int - fungsi menghasilkan grafik Histogram.\n",
    "Ggplot adalah library di R yang mendefinisikan graphic \n",
    "Plot adalah canvas, data dan aes, layer adalah objek grafik itu sendiri. Ada geom (geometri) yaitu “line”, “point”, dan “bar” ada stat (statistik) fungsi untuk transformasi statistik terhadap data, dan ada position"
   ]
  },
  {
   "cell_type": "code",
   "execution_count": null,
   "metadata": {},
   "outputs": [],
   "source": [
    "#example plot dengan label\n",
    "plot.jakarta <- plot.jakarta + labs(title=\"Luas Wilayah vs Kepadatan Penduduk DKI Jakarta - Periode 2013\")"
   ]
  },
  {
   "cell_type": "code",
   "execution_count": null,
   "metadata": {},
   "outputs": [],
   "source": [
    "#example plot\n",
    "iniPlot <- ggplot() + layer (data=data_customer, aes(x=profesi, y=usia, color=gender, geom= \"line\" stat=count, position = \"stack\")) \n",
    "#kalo pakai stat tidak perlu ada sumbu Y"
   ]
  },
  {
   "cell_type": "markdown",
   "metadata": {},
   "source": [
    "Data frame yang kita gunakan pada plot, sering sekali harus dilakukan summary terlebih sehingga dapat diproses lebih mudah oleh layer di ggplot.\n",
    "\n",
    "Fungsi summary yang bisa kita gunakan adalah function aggregate, yang memiliki minimal tiga input sebagai berikut:\n",
    "\n",
    "- x: merupakan list dari kolom data yang ingin kita jadikan summary\n",
    "- FUN: function summary yang bisa kita gunakan, misalkan sum, mean, dan lain-lain\n",
    "- by: list berisi pasangan daftar field yang ingin kita gunakan"
   ]
  },
  {
   "cell_type": "code",
   "execution_count": null,
   "metadata": {},
   "outputs": [],
   "source": [
    "#example agregate\n",
    "aggregate(x=list(JUMLAH=penduduk.dki$JUMLAH), \n",
    "          FUN=mean, by = list(NAMA.KABUPATEN.KOTA=penduduk.dki$NAMA.KABUPATEN.KOTA, JENIS.KELAMIN=penduduk.dki$JENIS.KELAMIN))"
   ]
  },
  {
   "cell_type": "code",
   "execution_count": null,
   "metadata": {},
   "outputs": [],
   "source": [
    "#example faceting untuk membagi scatter plot berdasarkan kolom pilihannya\n",
    "facet_wrap(~NAMA.KOLOMNYA)"
   ]
  }
 ],
 "metadata": {
  "kernelspec": {
   "display_name": "Python 3",
   "language": "python",
   "name": "python3"
  },
  "language_info": {
   "codemirror_mode": {
    "name": "ipython",
    "version": 3
   },
   "file_extension": ".py",
   "mimetype": "text/x-python",
   "name": "python",
   "nbconvert_exporter": "python",
   "pygments_lexer": "ipython3",
   "version": "3.8.2rc2"
  }
 },
 "nbformat": 4,
 "nbformat_minor": 4
}
